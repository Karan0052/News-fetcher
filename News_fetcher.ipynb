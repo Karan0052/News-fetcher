{
  "nbformat": 4,
  "nbformat_minor": 0,
  "metadata": {
    "colab": {
      "provenance": [],
      "authorship_tag": "ABX9TyMzpIysBjX+vie6J0eFEiUd",
      "include_colab_link": true
    },
    "kernelspec": {
      "name": "python3",
      "display_name": "Python 3"
    },
    "language_info": {
      "name": "python"
    }
  },
  "cells": [
    {
      "cell_type": "markdown",
      "metadata": {
        "id": "view-in-github",
        "colab_type": "text"
      },
      "source": [
        "<a href=\"https://colab.research.google.com/github/Karan0052/News-fetcher/blob/main/News_fetcher.ipynb\" target=\"_parent\"><img src=\"https://colab.research.google.com/assets/colab-badge.svg\" alt=\"Open In Colab\"/></a>"
      ]
    },
    {
      "cell_type": "code",
      "execution_count": 1,
      "metadata": {
        "colab": {
          "base_uri": "https://localhost:8080/"
        },
        "id": "5dD-VsU-eruN",
        "outputId": "1b584cf9-345d-48f8-9c3d-584ae2fc37dc"
      },
      "outputs": [
        {
          "output_type": "stream",
          "name": "stdout",
          "text": [
            "Welcome to the News Fetcher\n",
            "1. Get latest Tesla news\n",
            "2. Search for other topics\n",
            "Enter your choice (1/2): 1\n",
            "\n",
            "Latest Tesla News:\n",
            " 1. Tesla Leaves Uber Plenty of Road\n",
            "   Tesla Leaves Uber Plenty of Road The Wall Street Journal\n",
            "What Tesla Missed: Successful Innovation Is Built On Trust Forbes\n",
            "Elon Musk Plays a Familiar Song: Robot Cars Are Coming The Wall Street Journal\n",
            "Can Tesla's Optimus Really Talk? What We Know Newsweek\n",
            "Te…\n",
            "   https://biztoc.com/x/39f5405b18fb20d2\n",
            "\n",
            "2. What Tesla Missed: Successful Innovation Is Built On Trust - Forbes\n",
            "   What Tesla Missed: Successful Innovation Is Built On TrustForbes Can Tesla's Optimus Really Talk? What We KnowNewsweek Tesla shares drop 9% after Cybercab robotaxi reveal 'underwhelmed' investorsCNBC Tesla Stock Tumbles After Underwhelming Robotaxi Presentati…\n",
            "   https://slashdot.org/firehose.pl?op=view&amp;id=175240095\n",
            "\n",
            "3. Tesla Keeps “Planning” for the AI Boom, but AMD’s AI-Powered Products Are in Use Now\n",
            "   Hello, Reader.\n",
            "On Thursday night during the Tesla Inc. (TSLA) “We, Robot” event, Elon Musk unveiled the long-awaited Cybercab. It’s a “robotaxi” with no steering wheel or pedals – no driver required.\n",
            "He also – in the evening’s “one more thing” moment — surpri…\n",
            "   https://biztoc.com/x/d373431712427fc1\n",
            "\n",
            "4. GM launches PowerBank, a battery that could rival Tesla’s PowerWall\n",
            "   General Motor’s unit GM Energy has just released PowerBank, a stationary energy storage battery pack, which gives electric vehicles (EV) owners the ability to store and transfer energy from the electric grid, and the option of integrating with solar power equ…\n",
            "   https://www.digitaltrends.com/cars/gm-launches-powerbank-a-battery-that-could-rival-teslas-powerwall/\n",
            "\n",
            "5. Beneficio a la duda: expertos afirman que robot humano de Tesla fue controlado remotamente\n",
            "   Las interacciones y respuestas de la tecnología de Elon Musk en la presentación del robotaxi generaron interrogantes.\n",
            "   https://www.montevideo.com.uy/Ciencia-y-Tecnologia/Beneficio-a-la-duda-expertos-afirman-que-robot-humano-de-Tesla-fue-controlado-remotamente-uc903095\n",
            "\n",
            "\n"
          ]
        }
      ],
      "source": [
        "import requests\n",
        "\n",
        "API_KEY = \"07cf75890d10493b95758a56783ffd29\"\n",
        "BASE_URL = \"https://newsapi.org/v2/everything\"\n",
        "\n",
        "def get_news(query=\"tesla\", from_date=\"2024-09-13\", sort_by=\"publishedAt\"):\n",
        "    url = f\"{BASE_URL}?q={query}&from={from_date}&sortBy={sort_by}&apiKey={API_KEY}\"\n",
        "    response = requests.get(url)\n",
        "    return handle_response(response)\n",
        "\n",
        "def handle_response(response):\n",
        "    if response.status_code == 200:\n",
        "        articles = response.json().get(\"articles\", [])\n",
        "        if not articles:\n",
        "            return \"No news articles found.\"\n",
        "        news = \"\"\n",
        "        for i, article in enumerate(articles[:5], 1):\n",
        "            news += f\"{i}. {article['title']}\\n   {article['description']}\\n   {article['url']}\\n\\n\"\n",
        "        return news\n",
        "    else:\n",
        "        return f\"Error: {response.status_code} - {response.json().get('message', 'Unknown error')}\"\n",
        "\n",
        "def main():\n",
        "    print(\"Welcome to the News Fetcher\")\n",
        "    print(\"1. Get latest Tesla news\")\n",
        "    print(\"2. Search for other topics\")\n",
        "\n",
        "    choice = input(\"Enter your choice (1/2): \").strip()\n",
        "    if choice == \"1\":\n",
        "        news = get_news()\n",
        "        print(\"\\nLatest Tesla News:\\n\", news)\n",
        "    elif choice == \"2\":\n",
        "        query = input(\"Enter a topic to search: \").strip()\n",
        "        from_date = input(\"Enter the starting date (YYYY-MM-DD): \").strip()\n",
        "        news = get_news(query=query, from_date=from_date)\n",
        "        print(\"\\nSearch Results:\\n\", news)\n",
        "    else:\n",
        "        print(\"Invalid choice. Please try again.\")\n",
        "\n",
        "if __name__ == \"__main__\":\n",
        "    main()\n",
        "\n"
      ]
    }
  ]
}